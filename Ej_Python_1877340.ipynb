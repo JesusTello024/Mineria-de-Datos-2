{
 "cells": [
  {
   "cell_type": "markdown",
   "metadata": {},
   "source": [
    "Ejercicio 1: Realiza una variable con tu matricula y realiza una secuencia de imprimir con tu nombre y tu matricula concatenados."
   ]
  },
  {
   "cell_type": "code",
   "execution_count": null,
   "metadata": {},
   "outputs": [],
   "source": [
    "matr = 1877340\n",
    "print (\"Mi nombre es Vanessa y mi matrícula es\", matr)"
   ]
  },
  {
   "cell_type": "markdown",
   "metadata": {},
   "source": [
    "Ejercicio 2: Pidiendo el input del usuario pide dos números y crea una pequeña calculadora con los operadores básicos de suma, resta, multiplicación, división, y exponente."
   ]
  },
  {
   "cell_type": "code",
   "execution_count": 132,
   "metadata": {
    "scrolled": true
   },
   "outputs": [
    {
     "name": "stdout",
     "output_type": "stream",
     "text": [
      "Ingresa un número: 4\n",
      "Ingresa un número: 9\n",
      "\n",
      "CALCULADORA\n",
      "Suma:  13\n",
      "Resta:  -5\n",
      "Multiplicación:  36\n",
      "División:  0.4444444444444444\n",
      "Exponente:  262144\n"
     ]
    }
   ],
   "source": [
    "a= int(input(\"Ingresa un número: \"))\n",
    "b=int(input(\"Ingresa un número: \"))\n",
    "print(\"\\nCALCULADORA\")\n",
    "print(\"Suma: \", a+b)\n",
    "print(\"Resta: \", a-b)\n",
    "print (\"Multiplicación: \", a*b)\n",
    "print(\"División: \", a/b)\n",
    "print(\"Exponente: \", a**b)"
   ]
  },
  {
   "cell_type": "markdown",
   "metadata": {},
   "source": [
    "Ejercicio 3: Con loop while o for, realiza una lista de 10 numeros multiplos de 3, y después realiza una función de loop que sume todos los números dentro del arreglo."
   ]
  },
  {
   "cell_type": "code",
   "execution_count": 87,
   "metadata": {},
   "outputs": [
    {
     "name": "stdout",
     "output_type": "stream",
     "text": [
      "La lista de multiplos de 3:  [3, 6, 9, 12, 15, 18, 21, 24, 27, 30]\n",
      "La suma es:  165\n"
     ]
    }
   ],
   "source": [
    "suma=0\n",
    "lista=[]\n",
    "for i in range(3,31):\n",
    "    if i % 3 == 0: \n",
    "        lista.append(i)\n",
    "        suma=suma+i\n",
    "        continue\n",
    "print(\"La lista de múltiplos de 3: \",lista)      \n",
    "print(\"La suma es: \", suma)    "
   ]
  },
  {
   "cell_type": "markdown",
   "metadata": {},
   "source": [
    "Ejercicio 4: Con una función de if else, revisar si un número es par o es impar.\n",
    "Con una función de if else, revisar si un número es primo o no.\n",
    "\n",
    "    "
   ]
  },
  {
   "cell_type": "code",
   "execution_count": 3,
   "metadata": {},
   "outputs": [
    {
     "name": "stdout",
     "output_type": "stream",
     "text": [
      "Ingresa un número: 7\n",
      "Es impar\n",
      "Es primo\n"
     ]
    }
   ],
   "source": [
    "a=int(input(\"Ingresa un número: \"))\n",
    "if a % 2 == 0:\n",
    "    print(\"Es par\")\n",
    "else:\n",
    "    print (\"Es impar\")  \n",
    "\n",
    "valor=range(2,a)\n",
    "i=0\n",
    "for n in valor:\n",
    "        if a%n==0:\n",
    "            i=i+1           \n",
    "if i > 0:\n",
    "    print(\"No es primo\")\n",
    "else:\n",
    "    print(\"Es primo\")\n",
    "\n",
    "#https://unipython.com/ejemplo-numeros-primos/ "
   ]
  },
  {
   "cell_type": "markdown",
   "metadata": {},
   "source": [
    "Ejercicio 5: Utilizando diferentes clases en python, crea una calculadora con los operadores básicos de suma, resta, multiplicación, división, y exponente."
   ]
  },
  {
   "cell_type": "code",
   "execution_count": 28,
   "metadata": {},
   "outputs": [
    {
     "name": "stdout",
     "output_type": "stream",
     "text": [
      "CALCULADORA\n",
      " S = Suma \n",
      " R = Resta \n",
      " M = Multiplicación \n",
      " D = Divisón \n",
      " E = Exponente \n",
      "¿Qué operación deseas realizar? : D\n",
      "Ingresa un numero: 4\n",
      "Ingresa un numero: 5\n",
      "\n",
      " El resultado de la operacion  D es:  0.8\n"
     ]
    }
   ],
   "source": [
    "print(\"CALCULADORA\")\n",
    "print(\" S = Suma \\n R = Resta \\n M = Multiplicación \\n D = Divisón \\n E = Exponente \")\n",
    "op= input(\"¿Qué operación deseas realizar? : \")\n",
    "x = float(input(\"Ingresa un numero: \"))\n",
    "y = float(input(\"Ingresa un numero: \"))\n",
    "def Suma(x,y):\n",
    "    return(x+y)\n",
    "def Resta(x,y):\n",
    "    return(x-y)\n",
    "def Multiplicacion(x,y):\n",
    "    return(x*y)\n",
    "def Division(x,y):\n",
    "    return(x/y)\n",
    "def Exponente(x,y):\n",
    "    return(x**y)\n",
    "r=0\n",
    "if op==\"S\":\n",
    "    r=Suma(x,y)\n",
    "elif op==\"R\":\n",
    "    r=Resta(x,y)\n",
    "elif op==\"M\":\n",
    "    r=Multiplicacion(x,y)\n",
    "elif op==\"D\":\n",
    "    if y!=0:\n",
    "        r=Division(x,y)\n",
    "elif op==\"E\":\n",
    "    r=Exponente(x,y)\n",
    "else: \n",
    "    print(\"Esa opción no está disponible\")\n",
    "    \n",
    "\n",
    "print(\"\\n El resultado de la operacion \", op, \"es: \", r)"
   ]
  },
  {
   "cell_type": "markdown",
   "metadata": {},
   "source": [
    "Ejercicio 6: Tuplas"
   ]
  },
  {
   "cell_type": "code",
   "execution_count": 89,
   "metadata": {},
   "outputs": [
    {
     "name": "stdout",
     "output_type": "stream",
     "text": [
      "La variable a es tipo:  <class 'bool'>\n",
      "La variable b es tipo:  <class 'float'>\n",
      "La variable c es tipo:  <class 'int'>\n",
      "La variable d es tipo:  <class 'complex'>\n",
      "\n",
      " (4, 10, 28, 7, 36, 103)\n",
      "El primer elemento de la tupla es:  4\n",
      "El ultimo elemento de la tupla es:  103\n",
      "\n",
      "Elementos añadidos (4, 10, 28, 7, 36, 103, 'Vanessa', 'libro', 'computadora')\n",
      "\n",
      "La variable c esta en la tupla:  10\n"
     ]
    }
   ],
   "source": [
    "a= True\n",
    "b= 1.73\n",
    "c= 10\n",
    "d= 3 + 3j\n",
    "print(\"La variable a es tipo: \", type(a))\n",
    "print(\"La variable b es tipo: \", type (b))\n",
    "print(\"La variable c es tipo: \", type (c))\n",
    "print(\"La variable d es tipo: \", type(d))\n",
    "\n",
    "t=(4, 10, 28, 7, 36, 103)\n",
    "print(\"\\n\", t)\n",
    "print (\"El primer elemento de la tupla es: \",t[0])\n",
    "print (\"El ultimo elemento de la tupla es: \",t[5])\n",
    "\n",
    "dir(t)\n",
    "t=t.__add__(('Vanessa','libro', 'computadora', ))\n",
    "print(\"\\nElementos añadidos\", t)\n",
    "\n",
    "if a in t:\n",
    "    print(\"\\nLa variable a está en la tupla: \", a)\n",
    "elif b in t:\n",
    "    print(\"\\nLa variable b está en la tupla: \", b)\n",
    "elif c in t:\n",
    "    print(\"\\nLa variable c está en la tupla: \", c) \n",
    "elif d in t:\n",
    "    print(\"\\nLa variable d está en la tupla: \", d)\n",
    "else: \n",
    "    print(\"\\nNo hay variables en la tupla\")"
   ]
  },
  {
   "cell_type": "markdown",
   "metadata": {},
   "source": [
    "Ejercicio 7: Listas\n"
   ]
  },
  {
   "cell_type": "code",
   "execution_count": 81,
   "metadata": {},
   "outputs": [
    {
     "name": "stdout",
     "output_type": "stream",
     "text": [
      "[4, 13, 21, 30, 31, 35, 45, 61, 62, 64, 65, 73, 82, 97, 104, 121, 124, 131, 135, 141, 147, 153, 155, 162, 166, 171, 184, 195, 196, 199, 203, 204, 205, 217, 219, 220, 229, 233, 241, 248]\n",
      "Cuantos 12 hay en la lista:  0\n",
      "\n",
      "Los numeros pares son:  [204, 166, 162, 62, 220, 104, 4, 184, 30, 124, 64, 248, 82, 196] \n",
      "Ordenados de mayor a menor:  [248, 220, 204, 196, 184, 166, 162, 124, 104, 82, 64, 62, 30, 4]\n",
      "La longitud de la lista de los pares es:  14\n",
      "\n",
      "Los numeros impares son:  [155, 35, 135, 171, 203, 229, 141, 153, 205, 217, 121, 219, 147, 21, 13, 199, 97, 73, 233, 45, 131, 241, 61, 31, 195, 27] \n",
      "Ordenados de menor a mayor:  [13, 21, 27, 31, 35, 45, 61, 73, 97, 121, 131, 135, 141, 147, 153, 155, 171, 195, 199, 203, 205, 217, 219, 229, 233, 241]\n",
      "La longitud de la lista de los pares es:  26\n"
     ]
    }
   ],
   "source": [
    "import random as r\n",
    "dir(list)\n",
    "list=[]\n",
    "list= range(1, 250)\n",
    "numeros=r.sample(list,40)\n",
    "print (sorted(numeros))\n",
    "numeros.pop()\n",
    "numeros.append(27)\n",
    "s=numeros.count(12)\n",
    "print(\"¿Cuántos 12 hay en la lista? Hay \", s)\n",
    "\n",
    "#Funcion para pares\n",
    "#https://www.youtube.com/watch?v=G7gkt9UUhVQ\n",
    "\n",
    "def pares(numeros):\n",
    "    par=[]\n",
    "    for n in numeros:\n",
    "        if n % 2 == 0:\n",
    "            par.append(n)\n",
    "    return par\n",
    "def impares(numeros):\n",
    "    impar=[]\n",
    "    for n in numeros:\n",
    "        if n % 2 != 0:\n",
    "            impar.append(n)\n",
    "    return impar\n",
    "\n",
    "x=pares(numeros)\n",
    "l1=len(x)\n",
    "l3=sorted(x, reverse=True)\n",
    "y=impares(numeros)\n",
    "l2=len(y)\n",
    "l4=sorted(y)\n",
    "print (\"\\nLos números pares son: \", x,\"\\nOrdenados de mayor a menor: \", l3)\n",
    "print(\"La longitud de la lista de los pares es: \", l1)\n",
    "print (\"\\nLos números impares son: \", y, \"\\nOrdenados de menor a mayor: \", l4)\n",
    "print(\"La longitud de la lista de los pares es: \", l2)\n",
    "\n"
   ]
  },
  {
   "cell_type": "markdown",
   "metadata": {},
   "source": [
    "Ejercicio 8: Diccionarios"
   ]
  },
  {
   "cell_type": "code",
   "execution_count": 15,
   "metadata": {},
   "outputs": [
    {
     "name": "stdout",
     "output_type": "stream",
     "text": [
      "Las edades de menor a mayor:  [18, 19, 20, 23, 24, 26]\n",
      "\n",
      "Nombres:\n",
      "Vanessa\n",
      "Rebeca\n",
      "Anagaby\n",
      "Paulina\n",
      "Mike\n",
      "Ricardo\n",
      "\n",
      "Nuevo Diccionario:\n",
      "{'Vanessa': 20, 'Rebeca': 19, 'Anagaby': 26, 'Paulina': 23, 'Mike': 24, 'Ricardo': 18, 'Tania': '16', 'Valeria': '30'}\n"
     ]
    }
   ],
   "source": [
    "dict={'Vanessa': 20, 'Rebeca': 19, 'Anagaby': 26, 'Paulina': 23, 'Mike': 24, 'Ricardo': 18}\n",
    "lista=dict.values()\n",
    "print(\"Las edades de menor a mayor: \", sorted(lista))\n",
    "\n",
    "print(\"\\nNombres:\")\n",
    "for n in dict:\n",
    "    print (n)\n",
    "    \n",
    "dict['Tania']= '16'\n",
    "dict['Valeria'] = '30'\n",
    "\n",
    "print(\"\\nNuevo Diccionario:\")\n",
    "print(dict)"
   ]
  },
  {
   "cell_type": "markdown",
   "metadata": {},
   "source": [
    "\n",
    "Ejercicio 9: Sets"
   ]
  },
  {
   "cell_type": "code",
   "execution_count": 6,
   "metadata": {
    "scrolled": false
   },
   "outputs": [
    {
     "name": "stdout",
     "output_type": "stream",
     "text": [
      "[14, 81, 49, 188, 91, 135, 245, 39, 168, 194, 129, 16, 225, 29, 51, 177, 30, 90, 172, 173, 238, 85, 241, 43, 50, 183, 234, 205, 198, 147, 145, 47, 35, 142, 200, 2, 117, 169, 235, 60, 223, 54, 178, 44, 153, 97, 122, 222, 161, 25, 193, 98, 73, 224, 84, 186, 207, 124, 6, 201, 191, 18, 230, 95, 93, 119, 115, 88, 131, 70, 157, 208, 26, 105, 113, 56, 80, 77, 101, 203, 46, 204, 199, 38, 19, 209, 170, 58, 249, 140, 103, 179, 15, 164, 22, 68, 66, 163, 102, 150]\n",
      "\n",
      "La longitud de la lista es:  100\n",
      "\n",
      "Lista de cinco elementos del 1 al 10 ---> [7, 8, 1, 4, 2] \n",
      "\n",
      "El número 7 no está en la lista inicial\n",
      "El número 8 no está en la lista inicial\n",
      "El número 1 no está en la lista inicial\n",
      "El número 4 no está en la lista inicial\n",
      "El número 2 está en la lista inicial\n"
     ]
    }
   ],
   "source": [
    "import random as r\n",
    "numeros=range(1,250)\n",
    "l=r.sample(numeros, 100)\n",
    "print(l)\n",
    "print(\"\\nLa longitud de la lista es: \", len(l))\n",
    "numeros2=range(1,10)\n",
    "lista2=r.sample(numeros2, 5)\n",
    "print(\"\\nLista de cinco elementos del 1 al 10 --->\", lista2, \"\\n\")\n",
    "\n",
    "for n in lista2:\n",
    "    if n in l:\n",
    "        print(\"El número\", n, \"está en la lista inicial\")\n",
    "    else:\n",
    "        print(\"El número\",n, \"no está en la lista inicial\")"
   ]
  },
  {
   "cell_type": "code",
   "execution_count": 44,
   "metadata": {},
   "outputs": [
    {
     "name": "stdout",
     "output_type": "stream",
     "text": [
      "Números Aleatorios:  [21, 23, 17, 11, 8, 23, 2, 20, 22, 9, 5, 6, 14, 12, 22, 7, 0, 19, 15, 2, 19, 23, 4, 20, 21, 7, 0, 10, 3, 1, 7, 0, 12, 16, 0, 13, 25, 16, 16, 5, 8, 16, 0, 11, 17, 5, 21, 3, 6, 7, 7, 12, 18, 12, 0, 24, 24, 0, 2, 24, 21, 5, 16, 9, 14, 14, 3, 10, 4, 0, 8, 13, 3, 0, 8, 9, 21, 19, 12, 25, 9, 16, 25, 5, 22, 17, 16, 2, 21, 6, 21, 13, 18, 15, 19, 17, 6, 12, 11, 13]\n"
     ]
    },
    {
     "ename": "TypeError",
     "evalue": "'dict' object is not callable",
     "output_type": "error",
     "traceback": [
      "\u001b[1;31m---------------------------------------------------------------------------\u001b[0m",
      "\u001b[1;31mTypeError\u001b[0m                                 Traceback (most recent call last)",
      "\u001b[1;32m<ipython-input-44-161ac481f206>\u001b[0m in \u001b[0;36m<module>\u001b[1;34m\u001b[0m\n\u001b[0;32m      7\u001b[0m \u001b[1;33m\u001b[0m\u001b[0m\n\u001b[0;32m      8\u001b[0m \u001b[0mprint\u001b[0m\u001b[1;33m(\u001b[0m\u001b[1;34m\"Números Aleatorios: \"\u001b[0m\u001b[1;33m,\u001b[0m \u001b[0mlista1\u001b[0m\u001b[1;33m)\u001b[0m\u001b[1;33m\u001b[0m\u001b[1;33m\u001b[0m\u001b[0m\n\u001b[1;32m----> 9\u001b[1;33m \u001b[0mset1\u001b[0m \u001b[1;33m=\u001b[0m \u001b[0mset\u001b[0m\u001b[1;33m(\u001b[0m\u001b[0mlista1\u001b[0m\u001b[1;33m)\u001b[0m\u001b[1;33m\u001b[0m\u001b[1;33m\u001b[0m\u001b[0m\n\u001b[0m\u001b[0;32m     10\u001b[0m \u001b[0mprint\u001b[0m\u001b[1;33m(\u001b[0m\u001b[1;34m\"Set: \"\u001b[0m\u001b[1;33m,\u001b[0m \u001b[0mset1\u001b[0m\u001b[1;33m)\u001b[0m\u001b[1;33m\u001b[0m\u001b[1;33m\u001b[0m\u001b[0m\n\u001b[0;32m     11\u001b[0m \u001b[0mprint\u001b[0m\u001b[1;33m(\u001b[0m\u001b[1;34m\"\\nLa longitud del set es: \"\u001b[0m\u001b[1;33m,\u001b[0m \u001b[0mlen\u001b[0m\u001b[1;33m(\u001b[0m\u001b[0mset1\u001b[0m\u001b[1;33m)\u001b[0m\u001b[1;33m)\u001b[0m\u001b[1;33m\u001b[0m\u001b[1;33m\u001b[0m\u001b[0m\n",
      "\u001b[1;31mTypeError\u001b[0m: 'dict' object is not callable"
     ]
    }
   ],
   "source": [
    "import random as r \n",
    "lista1= []\n",
    "lista2= []\n",
    "for i in range(100):\n",
    "    a=r.randint(0,25)\n",
    "    lista1.append(a)  \n",
    "    \n",
    "#ESTA PARTE NO FUNCIONA\n",
    "print(\"Números Aleatorios: \", lista1)\n",
    "set1 = set(lista1)  \n",
    "print(\"Set: \", set1)\n",
    "print(\"\\nLa longitud del set es: \", len(set1))\n",
    "\n",
    "numeros2=range(1,10)\n",
    "lista2=r.sample(numeros2, 5)\n",
    "print(\"\\nLista de cinco elementos del 1 al 10 --->\", lista2, \"\\n\")\n",
    "\n",
    "for n in lista2:\n",
    "    if n in set:\n",
    "        print(\"El número\", n, \"está en el set inicial\")\n",
    "    else:\n",
    "        print(\"El número\",n, \"no está en el set inicial\")"
   ]
  }
 ],
 "metadata": {
  "kernelspec": {
   "display_name": "Python 3",
   "language": "python",
   "name": "python3"
  },
  "language_info": {
   "codemirror_mode": {
    "name": "ipython",
    "version": 3
   },
   "file_extension": ".py",
   "mimetype": "text/x-python",
   "name": "python",
   "nbconvert_exporter": "python",
   "pygments_lexer": "ipython3",
   "version": "3.8.5"
  }
 },
 "nbformat": 4,
 "nbformat_minor": 4
}
